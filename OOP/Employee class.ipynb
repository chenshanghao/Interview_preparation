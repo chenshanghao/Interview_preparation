{
 "cells": [
  {
   "cell_type": "code",
   "execution_count": 1,
   "metadata": {},
   "outputs": [],
   "source": [
    "#create a class named Employee\n",
    "class Employee:\n",
    "\n",
    "    #initialize the attributes\n",
    "    def __init__(self, name, id, department, title):\n",
    "        self.__name = name\n",
    "        self.__id = id\n",
    "        self.__department = department\n",
    "        self.__title = title\n",
    "\n",
    "    #set the attributes\n",
    "    def set_name(self, name):\n",
    "        self.__name = name\n",
    "\n",
    "    def set_id(self, id):\n",
    "        self.__id = id\n",
    "\n",
    "    def set_department(self, department):\n",
    "        self.__department = department\n",
    "\n",
    "    def set_title(self, title):\n",
    "        self.__title = title\n",
    "\n",
    "    #return the attributes\n",
    "    def get_name(self):\n",
    "        return self.__name\n",
    "\n",
    "    def get_id(self):\n",
    "        return self.__id\n",
    "\n",
    "    def get_department(self):\n",
    "        return self.__department\n",
    "\n",
    "    def get_title(self):\n",
    "        return self.__title\n",
    "\n",
    "    #return the objects state as a string\n",
    "\n",
    "    def __str__(self):\n",
    "        return 'Name: ' + self.__name + \\\n",
    "               '\\nID number: ' + self.__id + \\\n",
    "               '\\nDepartment: ' + self.__department + \\\n",
    "               '\\nTitle: ' + self.__title"
   ]
  },
  {
   "cell_type": "code",
   "execution_count": 2,
   "metadata": {},
   "outputs": [
    {
     "name": "stdout",
     "output_type": "stream",
     "text": [
      "\n",
      "Name: Susan Meyers\n",
      "ID number: 47899\n",
      "Department: Accounting\n",
      "Title: Vice President\n",
      "\n",
      "Name: Mark Jones\n",
      "ID number: 39119\n",
      "Department: IT\n",
      "Title: Programmer\n",
      "\n",
      "Name: Joy Rogersr\n",
      "ID number: 81774\n",
      "Department: Manufacturing\n",
      "Title: Engineer\n"
     ]
    }
   ],
   "source": [
    "emp1 = Employee('name', 'id', 'department', 'title')\n",
    "emp2 = Employee('name', 'id', 'department', 'title')\n",
    "emp3 = Employee('name', 'id', 'department', 'title')\n",
    "\n",
    "#create three Employee objects for each attribute\n",
    "emp1.set_name('Susan Meyers')\n",
    "emp1.set_id('47899')\n",
    "emp1.set_department('Accounting')\n",
    "emp1.set_title('Vice President')\n",
    "\n",
    "emp2.set_name('Mark Jones')\n",
    "emp2.set_id('39119')\n",
    "emp2.set_department('IT')\n",
    "emp2.set_title('Programmer')\n",
    "\n",
    "emp3.set_name('Joy Rogersr')\n",
    "emp3.set_id('81774')\n",
    "emp3.set_department('Manufacturing')\n",
    "emp3.set_title('Engineer')\n",
    "\n",
    "print()\n",
    "print(emp1)\n",
    "print()\n",
    "print(emp2)\n",
    "print()\n",
    "print(emp3)"
   ]
  }
 ],
 "metadata": {
  "kernelspec": {
   "display_name": "Python 3",
   "language": "python",
   "name": "python3"
  },
  "language_info": {
   "codemirror_mode": {
    "name": "ipython",
    "version": 3
   },
   "file_extension": ".py",
   "mimetype": "text/x-python",
   "name": "python",
   "nbconvert_exporter": "python",
   "pygments_lexer": "ipython3",
   "version": "3.6.6"
  }
 },
 "nbformat": 4,
 "nbformat_minor": 2
}
